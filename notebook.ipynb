{
 "cells": [
  {
   "cell_type": "markdown",
   "id": "fe0ea788-58dd-459e-8976-fafdb5c05c6d",
   "metadata": {},
   "source": [
    "Every year, American high school students take SATs, which are standardized tests intended to measure literacy, numeracy, and writing skills. There are three sections - reading, math, and writing, each with a **maximum score of 800 points**. These tests are extremely important for students and colleges, as they play a pivotal role in the admissions process.\n",
    "\n",
    "Analyzing the performance of schools is important for a variety of stakeholders, including policy and education professionals, researchers, government, and even parents considering which school their children should attend. "
   ]
  },
  {
   "cell_type": "code",
   "execution_count": 14,
   "id": "d0eb4f16-5a99-460d-a5ba-706b7ef0bbe7",
   "metadata": {
    "executionCancelledAt": null,
    "executionTime": 54,
    "id": "bA5ajAmk7XH6",
    "lastExecutedAt": 1750535898290,
    "lastExecutedByKernel": "2fe7d47a-2d9b-4d49-bc74-34b6211ca06c",
    "lastScheduledRunId": null,
    "lastSuccessfullyExecutedCode": "import pandas as pd\n\nschools = pd.read_csv(\"schools.csv\")\n\nschools.head()",
    "outputsMetadata": {
     "0": {
      "height": 263,
      "tableState": {},
      "type": "dataFrame"
     }
    }
   },
   "outputs": [
    {
     "data": {
      "application/com.datacamp.data-table.v2+json": {
       "table": {
        "data": {
         "average_math": [
          657,
          395,
          418,
          613,
          410
         ],
         "average_reading": [
          601,
          411,
          428,
          453,
          406
         ],
         "average_writing": [
          601,
          387,
          415,
          463,
          381
         ],
         "borough": [
          "Manhattan",
          "Manhattan",
          "Manhattan",
          "Manhattan",
          "Manhattan"
         ],
         "building_code": [
          "M022",
          "M445",
          "M445",
          "M445",
          "M056"
         ],
         "index": [
          0,
          1,
          2,
          3,
          4
         ],
         "percent_tested": [
          null,
          78.9,
          65.1,
          95.9,
          59.7
         ],
         "school_name": [
          "New Explorations into Science, Technology and Math High School",
          "Essex Street Academy",
          "Lower Manhattan Arts Academy",
          "High School for Dual Language and Asian Studies",
          "Henry Street School for International Studies"
         ]
        },
        "schema": {
         "fields": [
          {
           "name": "index",
           "type": "integer"
          },
          {
           "name": "school_name",
           "type": "string"
          },
          {
           "name": "borough",
           "type": "string"
          },
          {
           "name": "building_code",
           "type": "string"
          },
          {
           "name": "average_math",
           "type": "integer"
          },
          {
           "name": "average_reading",
           "type": "integer"
          },
          {
           "name": "average_writing",
           "type": "integer"
          },
          {
           "name": "percent_tested",
           "type": "number"
          }
         ],
         "pandas_version": "1.4.0",
         "primaryKey": [
          "index"
         ]
        }
       },
       "total_rows": 5,
       "truncation_type": null
      },
      "text/html": [
       "<div>\n",
       "<style scoped>\n",
       "    .dataframe tbody tr th:only-of-type {\n",
       "        vertical-align: middle;\n",
       "    }\n",
       "\n",
       "    .dataframe tbody tr th {\n",
       "        vertical-align: top;\n",
       "    }\n",
       "\n",
       "    .dataframe thead th {\n",
       "        text-align: right;\n",
       "    }\n",
       "</style>\n",
       "<table border=\"1\" class=\"dataframe\">\n",
       "  <thead>\n",
       "    <tr style=\"text-align: right;\">\n",
       "      <th></th>\n",
       "      <th>school_name</th>\n",
       "      <th>borough</th>\n",
       "      <th>building_code</th>\n",
       "      <th>average_math</th>\n",
       "      <th>average_reading</th>\n",
       "      <th>average_writing</th>\n",
       "      <th>percent_tested</th>\n",
       "    </tr>\n",
       "  </thead>\n",
       "  <tbody>\n",
       "    <tr>\n",
       "      <th>0</th>\n",
       "      <td>New Explorations into Science, Technology and ...</td>\n",
       "      <td>Manhattan</td>\n",
       "      <td>M022</td>\n",
       "      <td>657</td>\n",
       "      <td>601</td>\n",
       "      <td>601</td>\n",
       "      <td>NaN</td>\n",
       "    </tr>\n",
       "    <tr>\n",
       "      <th>1</th>\n",
       "      <td>Essex Street Academy</td>\n",
       "      <td>Manhattan</td>\n",
       "      <td>M445</td>\n",
       "      <td>395</td>\n",
       "      <td>411</td>\n",
       "      <td>387</td>\n",
       "      <td>78.9</td>\n",
       "    </tr>\n",
       "    <tr>\n",
       "      <th>2</th>\n",
       "      <td>Lower Manhattan Arts Academy</td>\n",
       "      <td>Manhattan</td>\n",
       "      <td>M445</td>\n",
       "      <td>418</td>\n",
       "      <td>428</td>\n",
       "      <td>415</td>\n",
       "      <td>65.1</td>\n",
       "    </tr>\n",
       "    <tr>\n",
       "      <th>3</th>\n",
       "      <td>High School for Dual Language and Asian Studies</td>\n",
       "      <td>Manhattan</td>\n",
       "      <td>M445</td>\n",
       "      <td>613</td>\n",
       "      <td>453</td>\n",
       "      <td>463</td>\n",
       "      <td>95.9</td>\n",
       "    </tr>\n",
       "    <tr>\n",
       "      <th>4</th>\n",
       "      <td>Henry Street School for International Studies</td>\n",
       "      <td>Manhattan</td>\n",
       "      <td>M056</td>\n",
       "      <td>410</td>\n",
       "      <td>406</td>\n",
       "      <td>381</td>\n",
       "      <td>59.7</td>\n",
       "    </tr>\n",
       "  </tbody>\n",
       "</table>\n",
       "</div>"
      ],
      "text/plain": [
       "                                         school_name  ... percent_tested\n",
       "0  New Explorations into Science, Technology and ...  ...            NaN\n",
       "1                               Essex Street Academy  ...           78.9\n",
       "2                       Lower Manhattan Arts Academy  ...           65.1\n",
       "3    High School for Dual Language and Asian Studies  ...           95.9\n",
       "4      Henry Street School for International Studies  ...           59.7\n",
       "\n",
       "[5 rows x 7 columns]"
      ]
     },
     "execution_count": 14,
     "metadata": {
      "application/com.datacamp.data-table.v2+json": {
       "status": "success"
      }
     },
     "output_type": "execute_result"
    }
   ],
   "source": [
    "import pandas as pd\n",
    "\n",
    "schools = pd.read_csv(\"schools.csv\")\n",
    "\n",
    "schools.head()"
   ]
  },
  {
   "cell_type": "code",
   "execution_count": 15,
   "id": "853f1070-f35e-4255-92e5-c70f7df9190a",
   "metadata": {
    "executionCancelledAt": null,
    "executionTime": 57,
    "lastExecutedAt": 1750535898347,
    "lastExecutedByKernel": "2fe7d47a-2d9b-4d49-bc74-34b6211ca06c",
    "lastScheduledRunId": null,
    "lastSuccessfullyExecutedCode": "best_math_schools = schools[schools[\"average_math\"] >= 640][[\"school_name\", \"average_math\"]].sort_values(\"average_math\", ascending=False)\n\nschools[\"total_SAT\"] = schools[\"average_math\"] + schools[\"average_reading\"] + schools[\"average_writing\"]\n\ntop_10_schools = schools.sort_values(\"total_SAT\", ascending=False)[[\"school_name\", \"total_SAT\"]].head(10)\ntop_10_schools",
    "outputsMetadata": {
     "0": {
      "height": 383,
      "tableState": {
       "customFilter": {
        "const": {
         "type": "boolean",
         "valid": true,
         "value": true
        },
        "id": "684bcba6-a86c-40c6-b84b-1f340d61053e",
        "nodeType": "const"
       }
      },
      "type": "dataFrame"
     }
    }
   },
   "outputs": [
    {
     "data": {
      "application/com.datacamp.data-table.v2+json": {
       "table": {
        "data": {
         "index": [
          88,
          170,
          93,
          174,
          333,
          365,
          5,
          280,
          45,
          68
         ],
         "school_name": [
          "Stuyvesant High School",
          "Bronx High School of Science",
          "Staten Island Technical High School",
          "High School of American Studies at Lehman College",
          "Townsend Harris High School",
          "Queens High School for the Sciences at York College",
          "Bard High School Early College",
          "Brooklyn Technical High School",
          "Eleanor Roosevelt High School",
          "High School for Mathematics, Science, and Engineering at City College"
         ],
         "total_SAT": [
          2144,
          2041,
          2041,
          2013,
          1981,
          1947,
          1914,
          1896,
          1889,
          1889
         ]
        },
        "schema": {
         "fields": [
          {
           "name": "index",
           "type": "integer"
          },
          {
           "name": "school_name",
           "type": "string"
          },
          {
           "name": "total_SAT",
           "type": "integer"
          }
         ],
         "pandas_version": "1.4.0",
         "primaryKey": [
          "index"
         ]
        }
       },
       "total_rows": 10,
       "truncation_type": null
      },
      "text/html": [
       "<div>\n",
       "<style scoped>\n",
       "    .dataframe tbody tr th:only-of-type {\n",
       "        vertical-align: middle;\n",
       "    }\n",
       "\n",
       "    .dataframe tbody tr th {\n",
       "        vertical-align: top;\n",
       "    }\n",
       "\n",
       "    .dataframe thead th {\n",
       "        text-align: right;\n",
       "    }\n",
       "</style>\n",
       "<table border=\"1\" class=\"dataframe\">\n",
       "  <thead>\n",
       "    <tr style=\"text-align: right;\">\n",
       "      <th></th>\n",
       "      <th>school_name</th>\n",
       "      <th>total_SAT</th>\n",
       "    </tr>\n",
       "  </thead>\n",
       "  <tbody>\n",
       "    <tr>\n",
       "      <th>88</th>\n",
       "      <td>Stuyvesant High School</td>\n",
       "      <td>2144</td>\n",
       "    </tr>\n",
       "    <tr>\n",
       "      <th>170</th>\n",
       "      <td>Bronx High School of Science</td>\n",
       "      <td>2041</td>\n",
       "    </tr>\n",
       "    <tr>\n",
       "      <th>93</th>\n",
       "      <td>Staten Island Technical High School</td>\n",
       "      <td>2041</td>\n",
       "    </tr>\n",
       "    <tr>\n",
       "      <th>174</th>\n",
       "      <td>High School of American Studies at Lehman College</td>\n",
       "      <td>2013</td>\n",
       "    </tr>\n",
       "    <tr>\n",
       "      <th>333</th>\n",
       "      <td>Townsend Harris High School</td>\n",
       "      <td>1981</td>\n",
       "    </tr>\n",
       "    <tr>\n",
       "      <th>365</th>\n",
       "      <td>Queens High School for the Sciences at York Co...</td>\n",
       "      <td>1947</td>\n",
       "    </tr>\n",
       "    <tr>\n",
       "      <th>5</th>\n",
       "      <td>Bard High School Early College</td>\n",
       "      <td>1914</td>\n",
       "    </tr>\n",
       "    <tr>\n",
       "      <th>280</th>\n",
       "      <td>Brooklyn Technical High School</td>\n",
       "      <td>1896</td>\n",
       "    </tr>\n",
       "    <tr>\n",
       "      <th>45</th>\n",
       "      <td>Eleanor Roosevelt High School</td>\n",
       "      <td>1889</td>\n",
       "    </tr>\n",
       "    <tr>\n",
       "      <th>68</th>\n",
       "      <td>High School for Mathematics, Science, and Engi...</td>\n",
       "      <td>1889</td>\n",
       "    </tr>\n",
       "  </tbody>\n",
       "</table>\n",
       "</div>"
      ],
      "text/plain": [
       "                                           school_name  total_SAT\n",
       "88                              Stuyvesant High School       2144\n",
       "170                       Bronx High School of Science       2041\n",
       "93                 Staten Island Technical High School       2041\n",
       "174  High School of American Studies at Lehman College       2013\n",
       "333                        Townsend Harris High School       1981\n",
       "365  Queens High School for the Sciences at York Co...       1947\n",
       "5                       Bard High School Early College       1914\n",
       "280                     Brooklyn Technical High School       1896\n",
       "45                       Eleanor Roosevelt High School       1889\n",
       "68   High School for Mathematics, Science, and Engi...       1889"
      ]
     },
     "execution_count": 15,
     "metadata": {
      "application/com.datacamp.data-table.v2+json": {
       "status": "success"
      }
     },
     "output_type": "execute_result"
    }
   ],
   "source": [
    "best_math_schools = schools[schools[\"average_math\"] >= 640][[\"school_name\", \"average_math\"]].sort_values(\"average_math\", ascending=False)\n",
    "\n",
    "schools[\"total_SAT\"] = schools[\"average_math\"] + schools[\"average_reading\"] + schools[\"average_writing\"]\n",
    "\n",
    "top_10_schools = schools.sort_values(\"total_SAT\", ascending=False)[[\"school_name\", \"total_SAT\"]].head(10)\n",
    "top_10_schools"
   ]
  },
  {
   "cell_type": "code",
   "execution_count": 16,
   "id": "4b71e120-3af4-4c21-8603-3712c1cea1f1",
   "metadata": {
    "executionCancelledAt": null,
    "executionTime": 59,
    "lastExecutedAt": 1750535898406,
    "lastExecutedByKernel": "2fe7d47a-2d9b-4d49-bc74-34b6211ca06c",
    "lastScheduledRunId": null,
    "lastSuccessfullyExecutedCode": "boroughs = schools.groupby(\"borough\")[\"total_SAT\"].agg([\"count\", \"mean\", \"std\"]).round(2)\nboroughs",
    "outputsMetadata": {
     "0": {
      "height": 248,
      "tableState": {
       "customFilter": {
        "const": {
         "type": "boolean",
         "valid": true,
         "value": true
        },
        "id": "684bcba6-a86c-40c6-b84b-1f340d61053e",
        "nodeType": "const"
       }
      },
      "type": "dataFrame"
     }
    }
   },
   "outputs": [
    {
     "data": {
      "application/com.datacamp.data-table.v2+json": {
       "table": {
        "data": {
         "borough": [
          "Bronx",
          "Brooklyn",
          "Manhattan",
          "Queens",
          "Staten Island"
         ],
         "count": [
          98,
          109,
          89,
          69,
          10
         ],
         "mean": [
          1202.72,
          1230.26,
          1340.13,
          1345.48,
          1439
         ],
         "std": [
          150.39,
          154.87,
          230.29,
          195.25,
          222.3
         ]
        },
        "schema": {
         "fields": [
          {
           "name": "borough",
           "type": "string"
          },
          {
           "name": "count",
           "type": "integer"
          },
          {
           "name": "mean",
           "type": "number"
          },
          {
           "name": "std",
           "type": "number"
          }
         ],
         "pandas_version": "1.4.0",
         "primaryKey": [
          "borough"
         ]
        }
       },
       "total_rows": 5,
       "truncation_type": null
      },
      "text/html": [
       "<div>\n",
       "<style scoped>\n",
       "    .dataframe tbody tr th:only-of-type {\n",
       "        vertical-align: middle;\n",
       "    }\n",
       "\n",
       "    .dataframe tbody tr th {\n",
       "        vertical-align: top;\n",
       "    }\n",
       "\n",
       "    .dataframe thead th {\n",
       "        text-align: right;\n",
       "    }\n",
       "</style>\n",
       "<table border=\"1\" class=\"dataframe\">\n",
       "  <thead>\n",
       "    <tr style=\"text-align: right;\">\n",
       "      <th></th>\n",
       "      <th>count</th>\n",
       "      <th>mean</th>\n",
       "      <th>std</th>\n",
       "    </tr>\n",
       "    <tr>\n",
       "      <th>borough</th>\n",
       "      <th></th>\n",
       "      <th></th>\n",
       "      <th></th>\n",
       "    </tr>\n",
       "  </thead>\n",
       "  <tbody>\n",
       "    <tr>\n",
       "      <th>Bronx</th>\n",
       "      <td>98</td>\n",
       "      <td>1202.72</td>\n",
       "      <td>150.39</td>\n",
       "    </tr>\n",
       "    <tr>\n",
       "      <th>Brooklyn</th>\n",
       "      <td>109</td>\n",
       "      <td>1230.26</td>\n",
       "      <td>154.87</td>\n",
       "    </tr>\n",
       "    <tr>\n",
       "      <th>Manhattan</th>\n",
       "      <td>89</td>\n",
       "      <td>1340.13</td>\n",
       "      <td>230.29</td>\n",
       "    </tr>\n",
       "    <tr>\n",
       "      <th>Queens</th>\n",
       "      <td>69</td>\n",
       "      <td>1345.48</td>\n",
       "      <td>195.25</td>\n",
       "    </tr>\n",
       "    <tr>\n",
       "      <th>Staten Island</th>\n",
       "      <td>10</td>\n",
       "      <td>1439.00</td>\n",
       "      <td>222.30</td>\n",
       "    </tr>\n",
       "  </tbody>\n",
       "</table>\n",
       "</div>"
      ],
      "text/plain": [
       "               count     mean     std\n",
       "borough                              \n",
       "Bronx             98  1202.72  150.39\n",
       "Brooklyn         109  1230.26  154.87\n",
       "Manhattan         89  1340.13  230.29\n",
       "Queens            69  1345.48  195.25\n",
       "Staten Island     10  1439.00  222.30"
      ]
     },
     "execution_count": 16,
     "metadata": {
      "application/com.datacamp.data-table.v2+json": {
       "status": "success"
      }
     },
     "output_type": "execute_result"
    }
   ],
   "source": [
    "boroughs = schools.groupby(\"borough\")[\"total_SAT\"].agg([\"count\", \"mean\", \"std\"]).round(2)\n",
    "boroughs"
   ]
  },
  {
   "cell_type": "code",
   "execution_count": 17,
   "id": "74a836c0-9df1-479c-ae2f-ba629a2b25da",
   "metadata": {
    "executionCancelledAt": null,
    "executionTime": 60,
    "lastExecutedAt": 1750535898466,
    "lastExecutedByKernel": "2fe7d47a-2d9b-4d49-bc74-34b6211ca06c",
    "lastScheduledRunId": null,
    "lastSuccessfullyExecutedCode": "largest_std_dev = boroughs[boroughs[\"std\"] == boroughs[\"std\"].max()]\n\nlargest_std_dev = largest_std_dev.rename(columns={\"count\": \"num_schools\", \"mean\": \"average_SAT\", \"std\": \"std_SAT\"})\nlargest_std_dev",
    "outputsMetadata": {
     "0": {
      "height": 140,
      "tableState": {
       "customFilter": {
        "const": {
         "type": "boolean",
         "valid": true,
         "value": true
        },
        "id": "684bcba6-a86c-40c6-b84b-1f340d61053e",
        "nodeType": "const"
       }
      },
      "type": "dataFrame"
     }
    }
   },
   "outputs": [
    {
     "data": {
      "application/com.datacamp.data-table.v2+json": {
       "table": {
        "data": {
         "average_SAT": [
          1340.13
         ],
         "borough": [
          "Manhattan"
         ],
         "num_schools": [
          89
         ],
         "std_SAT": [
          230.29
         ]
        },
        "schema": {
         "fields": [
          {
           "name": "borough",
           "type": "string"
          },
          {
           "name": "num_schools",
           "type": "integer"
          },
          {
           "name": "average_SAT",
           "type": "number"
          },
          {
           "name": "std_SAT",
           "type": "number"
          }
         ],
         "pandas_version": "1.4.0",
         "primaryKey": [
          "borough"
         ]
        }
       },
       "total_rows": 1,
       "truncation_type": null
      },
      "text/html": [
       "<div>\n",
       "<style scoped>\n",
       "    .dataframe tbody tr th:only-of-type {\n",
       "        vertical-align: middle;\n",
       "    }\n",
       "\n",
       "    .dataframe tbody tr th {\n",
       "        vertical-align: top;\n",
       "    }\n",
       "\n",
       "    .dataframe thead th {\n",
       "        text-align: right;\n",
       "    }\n",
       "</style>\n",
       "<table border=\"1\" class=\"dataframe\">\n",
       "  <thead>\n",
       "    <tr style=\"text-align: right;\">\n",
       "      <th></th>\n",
       "      <th>num_schools</th>\n",
       "      <th>average_SAT</th>\n",
       "      <th>std_SAT</th>\n",
       "    </tr>\n",
       "    <tr>\n",
       "      <th>borough</th>\n",
       "      <th></th>\n",
       "      <th></th>\n",
       "      <th></th>\n",
       "    </tr>\n",
       "  </thead>\n",
       "  <tbody>\n",
       "    <tr>\n",
       "      <th>Manhattan</th>\n",
       "      <td>89</td>\n",
       "      <td>1340.13</td>\n",
       "      <td>230.29</td>\n",
       "    </tr>\n",
       "  </tbody>\n",
       "</table>\n",
       "</div>"
      ],
      "text/plain": [
       "           num_schools  average_SAT  std_SAT\n",
       "borough                                     \n",
       "Manhattan           89      1340.13   230.29"
      ]
     },
     "execution_count": 17,
     "metadata": {
      "application/com.datacamp.data-table.v2+json": {
       "status": "success"
      }
     },
     "output_type": "execute_result"
    }
   ],
   "source": [
    "largest_std_dev = boroughs[boroughs[\"std\"] == boroughs[\"std\"].max()]\n",
    "\n",
    "largest_std_dev = largest_std_dev.rename(columns={\"count\": \"num_schools\", \"mean\": \"average_SAT\", \"std\": \"std_SAT\"})\n",
    "largest_std_dev"
   ]
  }
 ],
 "metadata": {
  "editor": "DataLab",
  "kernelspec": {
   "display_name": "Python 3 (ipykernel)",
   "language": "python",
   "name": "python3"
  },
  "language_info": {
   "codemirror_mode": {
    "name": "ipython",
    "version": 3
   },
   "file_extension": ".py",
   "mimetype": "text/x-python",
   "name": "python",
   "nbconvert_exporter": "python",
   "pygments_lexer": "ipython3",
   "version": "3.8.10"
  }
 },
 "nbformat": 4,
 "nbformat_minor": 5
}
